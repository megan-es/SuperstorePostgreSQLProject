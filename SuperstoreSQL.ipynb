{
    "metadata": {
        "kernelspec": {
            "name": "SQL",
            "display_name": "SQL",
            "language": "sql"
        },
        "language_info": {
            "name": "sql",
            "version": ""
        }
    },
    "nbformat_minor": 2,
    "nbformat": 4,
    "cells": [
        {
            "cell_type": "code",
            "source": [
                "CREATE DATABASE globalsuperstore"
            ],
            "metadata": {
                "azdata_cell_guid": "3e5e98bd-0a33-4252-afa3-688ac283a795",
                "language": "sql"
            },
            "outputs": [
                {
                    "output_type": "error",
                    "ename": "",
                    "evalue": "database \"globalsuperstore\" already exists",
                    "traceback": []
                },
                {
                    "output_type": "display_data",
                    "data": {
                        "text/html": "Total execution time: 00:00:00.001"
                    },
                    "metadata": {}
                }
            ],
            "execution_count": 1
        },
        {
            "cell_type": "code",
            "source": [
                "--Table Schema for Orders\n",
                "CREATE TABLE Orders (\n",
                "    RowID VARCHAR(255) PRIMARY KEY,\n",
                "    OrderID VARCHAR(255),\n",
                "    OrderDate DATE,\n",
                "    ShipDate DATE,\n",
                "    ShipMode VARCHAR(255),\n",
                "    CustomerID VARCHAR(255),\n",
                "    CustomerName VARCHAR(255),\n",
                "    Segment VARCHAR(255),\n",
                "    Country VARCHAR(255),\n",
                "    City VARCHAR(255),\n",
                "    State VARCHAR(255),\n",
                "    PostalCode VARCHAR(255),\n",
                "    Region VARCHAR(255),\n",
                "    ProductID VARCHAR(255),\n",
                "    Category VARCHAR(255),\n",
                "    SubCategory VARCHAR(255),\n",
                "    ProductName VARCHAR(255),\n",
                "    Sales Float,\n",
                "    Quantity INT,\n",
                "    Discount Float, \n",
                "    Profit Float\n",
                "    );"
            ],
            "metadata": {
                "azdata_cell_guid": "9e6b1c38-465d-47b1-a0ed-9b025f66b3bb",
                "language": "sql"
            },
            "outputs": [
                {
                    "output_type": "display_data",
                    "data": {
                        "text/html": "Commands completed successfully"
                    },
                    "metadata": {}
                },
                {
                    "output_type": "display_data",
                    "data": {
                        "text/html": "Total execution time: 00:00:00.005"
                    },
                    "metadata": {}
                }
            ],
            "execution_count": 34
        },
        {
            "cell_type": "code",
            "source": [
                "-- Table Schema for People\n",
                "CREATE TABLE People (\n",
                "    Person VARCHAR(255) PRIMARY KEY,\n",
                "    Region VARCHAR(255)\n",
                ");"
            ],
            "metadata": {
                "azdata_cell_guid": "0e9cf7d1-1a68-4e3d-9ada-de11f4a47444",
                "language": "sql"
            },
            "outputs": [
                {
                    "output_type": "display_data",
                    "data": {
                        "text/html": "Commands completed successfully"
                    },
                    "metadata": {}
                },
                {
                    "output_type": "display_data",
                    "data": {
                        "text/html": "Total execution time: 00:00:00.004"
                    },
                    "metadata": {}
                }
            ],
            "execution_count": 35
        },
        {
            "cell_type": "code",
            "source": [
                "COPY Orders(RowID, OrderID, OrderDate, ShipDate, ShipMode, CustomerID, CustomerName, Segment, Country, City, State, PostalCode, Region, ProductID, Category, SubCategory, ProductName, Sales, Quantity, Discount, Profit) FROM '/Users/meganwagnersmith/Desktop/SuperstoreDBProject/Orders.csv' DELIMITER ',' CSV HEADER;\n",
                "COPY People(Person, Region) FROM '/Users/meganwagnersmith/Desktop/SuperstoreDBProject/people.csv' DELIMITER ',' CSV HEADER;\n",
                ""
            ],
            "metadata": {
                "azdata_cell_guid": "75aa400e-2603-47fd-93d2-b9130432d17c",
                "language": "sql",
                "tags": []
            },
            "outputs": [
                {
                    "output_type": "display_data",
                    "data": {
                        "text/html": "Commands completed successfully"
                    },
                    "metadata": {}
                },
                {
                    "output_type": "display_data",
                    "data": {
                        "text/html": "Commands completed successfully"
                    },
                    "metadata": {}
                },
                {
                    "output_type": "display_data",
                    "data": {
                        "text/html": "Total execution time: 00:00:00.055"
                    },
                    "metadata": {}
                }
            ],
            "execution_count": 36
        },
        {
            "cell_type": "code",
            "source": [
                "--Total Sales by Each Person\n",
                "SELECT p.person, ROUND(SUM(o.sales)::numeric, 2) AS total_sales\n",
                "FROM people p\n",
                "LEFT JOIN orders o on p.person = o.customername\n",
                "GROUP BY p.person\n",
                "ORDER BY total_sales DESC;"
            ],
            "metadata": {
                "azdata_cell_guid": "5c8b5645-3e9f-44e2-840d-c24408db1246",
                "language": "sql",
                "tags": []
            },
            "outputs": [
                {
                    "output_type": "display_data",
                    "data": {
                        "text/html": "(4 row(s) affected)"
                    },
                    "metadata": {}
                },
                {
                    "output_type": "display_data",
                    "data": {
                        "text/html": "Total execution time: 00:00:00.015"
                    },
                    "metadata": {}
                },
                {
                    "output_type": "execute_result",
                    "execution_count": 43,
                    "data": {
                        "application/vnd.dataresource+json": {
                            "schema": {
                                "fields": [
                                    {
                                        "name": "person"
                                    },
                                    {
                                        "name": "total_sales"
                                    }
                                ]
                            },
                            "data": [
                                {
                                    "person": "Cassandra Brandow",
                                    "total_sales": "6076.14"
                                },
                                {
                                    "person": "Anna Andreadi",
                                    "total_sales": "5086.94"
                                },
                                {
                                    "person": "Kelly Williams",
                                    "total_sales": "449.10"
                                },
                                {
                                    "person": "Chuck Magee",
                                    "total_sales": "287.99"
                                }
                            ]
                        },
                        "text/html": "<table><tr><th>person</th><th>total_sales</th></tr><tr><td>Cassandra Brandow</td><td>6076.14</td></tr><tr><td>Anna Andreadi</td><td>5086.94</td></tr><tr><td>Kelly Williams</td><td>449.10</td></tr><tr><td>Chuck Magee</td><td>287.99</td></tr></table>"
                    },
                    "metadata": {}
                }
            ],
            "execution_count": 43
        },
        {
            "cell_type": "code",
            "source": [
                "--Average Sales per Order by Each Person\n",
                "SELECT p.person, ROUND(AVG(o.sales)::numeric, 2) as avg_sales\n",
                "FROM people p\n",
                "JOIN orders o ON p.person = o.customername\n",
                "GROUP BY p.person\n",
                "ORDER BY avg_sales DESC;"
            ],
            "metadata": {
                "azdata_cell_guid": "1bd71e9e-df9e-467b-bd26-df3d1970514a",
                "language": "sql"
            },
            "outputs": [
                {
                    "output_type": "display_data",
                    "data": {
                        "text/html": "(4 row(s) affected)"
                    },
                    "metadata": {}
                },
                {
                    "output_type": "display_data",
                    "data": {
                        "text/html": "Total execution time: 00:00:00.008"
                    },
                    "metadata": {}
                },
                {
                    "output_type": "execute_result",
                    "execution_count": 48,
                    "data": {
                        "application/vnd.dataresource+json": {
                            "schema": {
                                "fields": [
                                    {
                                        "name": "person"
                                    },
                                    {
                                        "name": "avg_sales"
                                    }
                                ]
                            },
                            "data": [
                                {
                                    "person": "Anna Andreadi",
                                    "avg_sales": "282.61"
                                },
                                {
                                    "person": "Cassandra Brandow",
                                    "avg_sales": "233.70"
                                },
                                {
                                    "person": "Kelly Williams",
                                    "avg_sales": "89.82"
                                },
                                {
                                    "person": "Chuck Magee",
                                    "avg_sales": "32.00"
                                }
                            ]
                        },
                        "text/html": "<table><tr><th>person</th><th>avg_sales</th></tr><tr><td>Anna Andreadi</td><td>282.61</td></tr><tr><td>Cassandra Brandow</td><td>233.70</td></tr><tr><td>Kelly Williams</td><td>89.82</td></tr><tr><td>Chuck Magee</td><td>32.00</td></tr></table>"
                    },
                    "metadata": {}
                }
            ],
            "execution_count": 48
        },
        {
            "cell_type": "code",
            "source": [
                "--Count of people by region who have placed an order\n",
                "SELECT p.region, COUNT(DISTINCT p.person) AS people_count\n",
                "FROM people p\n",
                "JOIN orders o ON p.person = o.customername\n",
                "GROUP BY p.region\n",
                "ORDER BY people_count DESC;"
            ],
            "metadata": {
                "azdata_cell_guid": "3b941fac-4f72-444b-9b4c-5d7dc2ed0e1c",
                "language": "sql"
            },
            "outputs": [
                {
                    "output_type": "display_data",
                    "data": {
                        "text/html": "(4 row(s) affected)"
                    },
                    "metadata": {}
                },
                {
                    "output_type": "display_data",
                    "data": {
                        "text/html": "Total execution time: 00:00:00.013"
                    },
                    "metadata": {}
                },
                {
                    "output_type": "execute_result",
                    "execution_count": 58,
                    "data": {
                        "application/vnd.dataresource+json": {
                            "schema": {
                                "fields": [
                                    {
                                        "name": "region"
                                    },
                                    {
                                        "name": "people_count"
                                    }
                                ]
                            },
                            "data": [
                                {
                                    "region": "Central",
                                    "people_count": "1"
                                },
                                {
                                    "region": "East",
                                    "people_count": "1"
                                },
                                {
                                    "region": "South",
                                    "people_count": "1"
                                },
                                {
                                    "region": "West",
                                    "people_count": "1"
                                }
                            ]
                        },
                        "text/html": "<table><tr><th>region</th><th>people_count</th></tr><tr><td>Central</td><td>1</td></tr><tr><td>East</td><td>1</td></tr><tr><td>South</td><td>1</td></tr><tr><td>West</td><td>1</td></tr></table>"
                    },
                    "metadata": {}
                }
            ],
            "execution_count": 58
        },
        {
            "cell_type": "code",
            "source": [
                "--List all orders by specific perosn\n",
                "SELECT o.* \n",
                "FROM orders o \n",
                "JOIN people p ON o.customername = p.person\n",
                "WHERE p.person = 'Kelly Williams';"
            ],
            "metadata": {
                "azdata_cell_guid": "db44b42d-b88e-42c1-b25e-fa16deb785a1",
                "language": "sql",
                "tags": [
                    "hide_input"
                ]
            },
            "outputs": [
                {
                    "output_type": "display_data",
                    "data": {
                        "text/html": "(5 row(s) affected)"
                    },
                    "metadata": {}
                },
                {
                    "output_type": "display_data",
                    "data": {
                        "text/html": "Total execution time: 00:00:00.007"
                    },
                    "metadata": {}
                },
                {
                    "output_type": "execute_result",
                    "execution_count": 61,
                    "data": {
                        "application/vnd.dataresource+json": {
                            "schema": {
                                "fields": [
                                    {
                                        "name": "rowid"
                                    },
                                    {
                                        "name": "orderid"
                                    },
                                    {
                                        "name": "orderdate"
                                    },
                                    {
                                        "name": "shipdate"
                                    },
                                    {
                                        "name": "shipmode"
                                    },
                                    {
                                        "name": "customerid"
                                    },
                                    {
                                        "name": "customername"
                                    },
                                    {
                                        "name": "segment"
                                    },
                                    {
                                        "name": "country"
                                    },
                                    {
                                        "name": "city"
                                    },
                                    {
                                        "name": "state"
                                    },
                                    {
                                        "name": "postalcode"
                                    },
                                    {
                                        "name": "region"
                                    },
                                    {
                                        "name": "productid"
                                    },
                                    {
                                        "name": "category"
                                    },
                                    {
                                        "name": "subcategory"
                                    },
                                    {
                                        "name": "productname"
                                    },
                                    {
                                        "name": "sales"
                                    },
                                    {
                                        "name": "quantity"
                                    },
                                    {
                                        "name": "discount"
                                    },
                                    {
                                        "name": "profit"
                                    }
                                ]
                            },
                            "data": [
                                {
                                    "rowid": "2335",
                                    "orderid": "CA-2014-140886",
                                    "orderdate": "2014-09-30",
                                    "shipdate": "2014-10-04",
                                    "shipmode": "Standard Class",
                                    "customerid": "KW-16570",
                                    "customername": "Kelly Williams",
                                    "segment": "Consumer",
                                    "country": "United States",
                                    "city": "Clarksville",
                                    "state": "Tennessee",
                                    "postalcode": "37042",
                                    "region": "South",
                                    "productid": "OFF-AP-10000696",
                                    "category": "Office Supplies",
                                    "subcategory": "Appliances",
                                    "productname": "Holmes Odor Grabber",
                                    "sales": "69.216",
                                    "quantity": "6",
                                    "discount": "0.2",
                                    "profit": "11.2476"
                                },
                                {
                                    "rowid": "2512",
                                    "orderid": "CA-2015-102722",
                                    "orderdate": "2015-04-18",
                                    "shipdate": "2015-04-19",
                                    "shipmode": "First Class",
                                    "customerid": "KW-16570",
                                    "customername": "Kelly Williams",
                                    "segment": "Consumer",
                                    "country": "United States",
                                    "city": "Monroe",
                                    "state": "Louisiana",
                                    "postalcode": "71203",
                                    "region": "South",
                                    "productid": "TEC-AC-10003116",
                                    "category": "Technology",
                                    "subcategory": "Accessories",
                                    "productname": "Memorex Froggy Flash Drive 8 GB",
                                    "sales": "106.5",
                                    "quantity": "6",
                                    "discount": "0.0",
                                    "profit": "41.535"
                                },
                                {
                                    "rowid": "5155",
                                    "orderid": "US-2015-124219",
                                    "orderdate": "2015-08-07",
                                    "shipdate": "2015-08-08",
                                    "shipmode": "First Class",
                                    "customerid": "KW-16570",
                                    "customername": "Kelly Williams",
                                    "segment": "Consumer",
                                    "country": "United States",
                                    "city": "Kirkwood",
                                    "state": "Missouri",
                                    "postalcode": "63122",
                                    "region": "Central",
                                    "productid": "OFF-BI-10002215",
                                    "category": "Office Supplies",
                                    "subcategory": "Binders",
                                    "productname": "Wilson Jones Hanging View Binder, White, 1\"",
                                    "sales": "28.4",
                                    "quantity": "4",
                                    "discount": "0.0",
                                    "profit": "13.064"
                                },
                                {
                                    "rowid": "5156",
                                    "orderid": "US-2015-124219",
                                    "orderdate": "2015-08-07",
                                    "shipdate": "2015-08-08",
                                    "shipmode": "First Class",
                                    "customerid": "KW-16570",
                                    "customername": "Kelly Williams",
                                    "segment": "Consumer",
                                    "country": "United States",
                                    "city": "Kirkwood",
                                    "state": "Missouri",
                                    "postalcode": "63122",
                                    "region": "Central",
                                    "productid": "FUR-FU-10000305",
                                    "category": "Furniture",
                                    "subcategory": "Furnishings",
                                    "productname": "Tenex V2T-RE Standard Weight Series Chair Mat, 45\" x 53\", Lip 25\" x 12\"",
                                    "sales": "212.94",
                                    "quantity": "3",
                                    "discount": "0.0",
                                    "profit": "34.0704"
                                },
                                {
                                    "rowid": "9502",
                                    "orderid": "US-2015-158589",
                                    "orderdate": "2015-11-20",
                                    "shipdate": "2015-11-24",
                                    "shipmode": "Standard Class",
                                    "customerid": "KW-16570",
                                    "customername": "Kelly Williams",
                                    "segment": "Consumer",
                                    "country": "United States",
                                    "city": "San Francisco",
                                    "state": "California",
                                    "postalcode": "94109",
                                    "region": "West",
                                    "productid": "FUR-FU-10001546",
                                    "category": "Furniture",
                                    "subcategory": "Furnishings",
                                    "productname": "Dana Swing-Arm Lamps",
                                    "sales": "32.04",
                                    "quantity": "3",
                                    "discount": "0.0",
                                    "profit": "8.01"
                                }
                            ]
                        },
                        "text/html": "<table><tr><th>rowid</th><th>orderid</th><th>orderdate</th><th>shipdate</th><th>shipmode</th><th>customerid</th><th>customername</th><th>segment</th><th>country</th><th>city</th><th>state</th><th>postalcode</th><th>region</th><th>productid</th><th>category</th><th>subcategory</th><th>productname</th><th>sales</th><th>quantity</th><th>discount</th><th>profit</th></tr><tr><td>2335</td><td>CA-2014-140886</td><td>2014-09-30</td><td>2014-10-04</td><td>Standard Class</td><td>KW-16570</td><td>Kelly Williams</td><td>Consumer</td><td>United States</td><td>Clarksville</td><td>Tennessee</td><td>37042</td><td>South</td><td>OFF-AP-10000696</td><td>Office Supplies</td><td>Appliances</td><td>Holmes Odor Grabber</td><td>69.216</td><td>6</td><td>0.2</td><td>11.2476</td></tr><tr><td>2512</td><td>CA-2015-102722</td><td>2015-04-18</td><td>2015-04-19</td><td>First Class</td><td>KW-16570</td><td>Kelly Williams</td><td>Consumer</td><td>United States</td><td>Monroe</td><td>Louisiana</td><td>71203</td><td>South</td><td>TEC-AC-10003116</td><td>Technology</td><td>Accessories</td><td>Memorex Froggy Flash Drive 8 GB</td><td>106.5</td><td>6</td><td>0.0</td><td>41.535</td></tr><tr><td>5155</td><td>US-2015-124219</td><td>2015-08-07</td><td>2015-08-08</td><td>First Class</td><td>KW-16570</td><td>Kelly Williams</td><td>Consumer</td><td>United States</td><td>Kirkwood</td><td>Missouri</td><td>63122</td><td>Central</td><td>OFF-BI-10002215</td><td>Office Supplies</td><td>Binders</td><td>Wilson Jones Hanging View Binder, White, 1&quot;</td><td>28.4</td><td>4</td><td>0.0</td><td>13.064</td></tr><tr><td>5156</td><td>US-2015-124219</td><td>2015-08-07</td><td>2015-08-08</td><td>First Class</td><td>KW-16570</td><td>Kelly Williams</td><td>Consumer</td><td>United States</td><td>Kirkwood</td><td>Missouri</td><td>63122</td><td>Central</td><td>FUR-FU-10000305</td><td>Furniture</td><td>Furnishings</td><td>Tenex V2T-RE Standard Weight Series Chair Mat, 45&quot; x 53&quot;, Lip 25&quot; x 12&quot;</td><td>212.94</td><td>3</td><td>0.0</td><td>34.0704</td></tr><tr><td>9502</td><td>US-2015-158589</td><td>2015-11-20</td><td>2015-11-24</td><td>Standard Class</td><td>KW-16570</td><td>Kelly Williams</td><td>Consumer</td><td>United States</td><td>San Francisco</td><td>California</td><td>94109</td><td>West</td><td>FUR-FU-10001546</td><td>Furniture</td><td>Furnishings</td><td>Dana Swing-Arm Lamps</td><td>32.04</td><td>3</td><td>0.0</td><td>8.01</td></tr></table>"
                    },
                    "metadata": {}
                }
            ],
            "execution_count": 61
        }
    ]
}